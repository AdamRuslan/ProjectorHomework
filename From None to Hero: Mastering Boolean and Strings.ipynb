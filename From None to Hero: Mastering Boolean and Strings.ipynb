{
 "cells": [
  {
   "attachments": {},
   "cell_type": "markdown",
   "metadata": {},
   "source": [
    "Make all these expressions true."
   ]
  },
  {
   "cell_type": "code",
   "execution_count": 132,
   "metadata": {},
   "outputs": [
    {
     "data": {
      "text/plain": [
       "True"
      ]
     },
     "execution_count": 132,
     "metadata": {},
     "output_type": "execute_result"
    }
   ],
   "source": [
    "3<4\n",
    "10>5\n",
    "str(42) == \"42\" or 42 != \"42\""
   ]
  },
  {
   "attachments": {},
   "cell_type": "markdown",
   "metadata": {},
   "source": [
    "Print the text in which there will be a quote with double quotes.\n",
    "Get a string from user input. Check if the string is a palindrome."
   ]
  },
  {
   "cell_type": "code",
   "execution_count": 140,
   "metadata": {},
   "outputs": [
    {
     "name": "stdout",
     "output_type": "stream",
     "text": [
      "I told you!\n"
     ]
    }
   ],
   "source": [
    "#Getting string from the user\n",
    "string = input(\"Please, don't use palindrome\")\n",
    "\n",
    "# change lowercase to make sure that words will be analysed correctly\n",
    "string = string.lower()\n",
    "\n",
    "# Reverse the string\n",
    "reverse_string = string[::-1]\n",
    "\n",
    "#Palindrome check\n",
    "if string == reverse_string:\n",
    "    print(\"I told you!\")\n",
    "else : print(\"Thank you, the following string is not a palindrome\")"
   ]
  },
  {
   "attachments": {},
   "cell_type": "markdown",
   "metadata": {},
   "source": [
    "The program receives the user's name and age from the input. Then you need to display the name and age in one line in several ways: \n",
    "\n",
    "- by listing all the parameters in the print function\n",
    "- by formatting a string using the format function\n",
    "- by formatting a string with f-string\n",
    "\n",
    "The string should look like this: `\"Your name is {name} and your {age} years old\"`\n"
   ]
  },
  {
   "cell_type": "code",
   "execution_count": 142,
   "metadata": {},
   "outputs": [
    {
     "name": "stdout",
     "output_type": "stream",
     "text": [
      "Your name is Mike and your age is 24 years old\n",
      "Your name is Mike and your age is 24 years old\n",
      "Your name is Mike and your age is 24 years old\n"
     ]
    }
   ],
   "source": [
    "# Getting the data from user\n",
    "name = input(\"What is your name?\")\n",
    "age  = input(\"How old are you, sweetie?\")\n",
    "\n",
    "# Method 1: Listing all the parameters in the print function:\n",
    "print(\"Your name is\", name, \"and your age is\", age, \"years old\")\n",
    "\n",
    "# Method 2: Formatting a string using the format function\n",
    "output_string = \"Your name is {} and your age is {} years old\".format(name, age)\n",
    "print(output_string)\n",
    "\n",
    "# Method 3: Formatting a string with f-string\n",
    "output_string = f\"Your name is {name} and your age is {age} years old\"\n",
    "print(output_string)"
   ]
  },
  {
   "attachments": {},
   "cell_type": "markdown",
   "metadata": {},
   "source": [
    "Format string with proper built-in function\n",
    "All letters must be written in lowercase."
   ]
  },
  {
   "cell_type": "code",
   "execution_count": 145,
   "metadata": {},
   "outputs": [
    {
     "name": "stdout",
     "output_type": "stream",
     "text": [
      "animals  \n"
     ]
    }
   ],
   "source": [
    "string_1 = \"Animals  \".lower()\n",
    "print(string_1)"
   ]
  },
  {
   "attachments": {},
   "cell_type": "markdown",
   "metadata": {},
   "source": [
    "All letters must be capitalized."
   ]
  },
  {
   "cell_type": "code",
   "execution_count": 147,
   "metadata": {},
   "outputs": [
    {
     "name": "stdout",
     "output_type": "stream",
     "text": [
      "  BADGER\n"
     ]
    }
   ],
   "source": [
    "string_2 = \"  Badger\".upper()\n",
    "print(string_2)"
   ]
  },
  {
   "attachments": {},
   "cell_type": "markdown",
   "metadata": {},
   "source": [
    "Remove all spaces.\n",
    "a) from the beginning of the line\n",
    "\n",
    "b) from the end of the line\n",
    "\n",
    "c) on both sides of the line"
   ]
  },
  {
   "cell_type": "code",
   "execution_count": 177,
   "metadata": {},
   "outputs": [
    {
     "name": "stdout",
     "output_type": "stream",
     "text": [
      "| HoneyPot     |\n",
      "|     HoneyPot |\n",
      "| HoneyPot |\n"
     ]
    }
   ],
   "source": [
    "string_3 = \"    HoneyPot    \".lstrip()\n",
    "print('|', string_3,'|')\n",
    "string_3 = \"    HoneyPot    \".rstrip()\n",
    "print('|', string_3,'|')\n",
    "string_3 = \"    HoneyPot    \".strip()\n",
    "print('|', string_3,'|')\n",
    "\n"
   ]
  },
  {
   "attachments": {},
   "cell_type": "markdown",
   "metadata": {},
   "source": [
    "Check the value of the startwith('Be') function for each line.:"
   ]
  },
  {
   "cell_type": "code",
   "execution_count": 202,
   "metadata": {},
   "outputs": [
    {
     "name": "stdout",
     "output_type": "stream",
     "text": [
      "True\n",
      "False\n",
      "False\n",
      "False\n"
     ]
    }
   ],
   "source": [
    "string_1 = \"Bear\"\n",
    "string_1.startswith(\"Be\")\n",
    "print(string_1.startswith(\"Be\"))\n",
    "string_2 = \"bear\"\n",
    "string_2.startswith(\"Be\")\n",
    "print(string_2.startswith(\"Be\"))\n",
    "string_3 = \"BEAR\"\n",
    "print(string_2.startswith(\"Be\"))\n",
    "string_3.startswith(\"Be\")\n",
    "string_4 = \"bEar\"\n",
    "string_4.startswith(\"Be\")\n",
    "print(string_4.startswith(\"Be\"))"
   ]
  },
  {
   "attachments": {},
   "cell_type": "markdown",
   "metadata": {},
   "source": [
    "Convert these bear-like rows with methods from the previous exercise to have a positive result for each row."
   ]
  },
  {
   "cell_type": "code",
   "execution_count": 192,
   "metadata": {},
   "outputs": [
    {
     "name": "stdout",
     "output_type": "stream",
     "text": [
      "True\n",
      "True\n",
      "True\n",
      "True\n"
     ]
    }
   ],
   "source": [
    "string_1 = \"Bear\".lower()\n",
    "string_1_capitalized = string_1.capitalize()\n",
    "print(string_1_capitalized.startswith(\"Be\"))\n",
    "\n",
    "string_2 = \"bear\".lower()\n",
    "string_2_capitalized = string_2.capitalize()\n",
    "print(string_2_capitalized.startswith(\"Be\"))\n",
    "\n",
    "string_3 = \"BEAR\".lower()\n",
    "string_3_capitalized = string_3.capitalize()\n",
    "print(string_3_capitalized.startswith(\"Be\"))\n",
    "\n",
    "string_4 = \"bEar\".lower()\n",
    "string_4_capitalized = string_4.capitalize()\n",
    "print(string_4_capitalized.startswith(\"Be\"))"
   ]
  },
  {
   "attachments": {},
   "cell_type": "markdown",
   "metadata": {},
   "source": [
    "(Optional) Find a secret message in the following text: `'X!xeXnxiXlX XtxeXrxcXeXsX Xax XsX`XtXIX'`"
   ]
  },
  {
   "cell_type": "code",
   "execution_count": 249,
   "metadata": {},
   "outputs": [
    {
     "name": "stdout",
     "output_type": "stream",
     "text": [
      "It`s a secret line!\n"
     ]
    }
   ],
   "source": [
    "secret_message = ('X!xeXnxiXlX XtxeXrxcXeXsX Xax XsX`XtXIX').lower()\n",
    "letter_to_remove = \"x\"\n",
    "result = secret_message.replace(letter_to_remove, \"\")  # remove \"x\" from the string\n",
    "result = result[::-1]  # reverse the string\n",
    "secret_message_capitalized = result.capitalize()\n",
    "print(secret_message_capitalized, flush= True)"
   ]
  }
 ],
 "metadata": {
  "kernelspec": {
   "display_name": "Python 3",
   "language": "python",
   "name": "python3"
  },
  "language_info": {
   "codemirror_mode": {
    "name": "ipython",
    "version": 3
   },
   "file_extension": ".py",
   "mimetype": "text/x-python",
   "name": "python",
   "nbconvert_exporter": "python",
   "pygments_lexer": "ipython3",
   "version": "3.11.2"
  },
  "orig_nbformat": 4
 },
 "nbformat": 4,
 "nbformat_minor": 2
}
