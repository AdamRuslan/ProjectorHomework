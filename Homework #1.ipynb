{
 "cells": [
  {
   "attachments": {},
   "cell_type": "markdown",
   "metadata": {},
   "source": [
    "Write a program that gets two int variables and swaps their values. Do it in 3 different ways."
   ]
  },
  {
   "cell_type": "code",
   "execution_count": 113,
   "metadata": {},
   "outputs": [
    {
     "name": "stdout",
     "output_type": "stream",
     "text": [
      "The result is: 5\n"
     ]
    }
   ],
   "source": [
    "a = 3\n",
    "b = 5\n",
    "print(\"The result is:\", int(b),flush=True)"
   ]
  },
  {
   "attachments": {},
   "cell_type": "markdown",
   "metadata": {},
   "source": [
    "Execution"
   ]
  },
  {
   "cell_type": "code",
   "execution_count": 114,
   "metadata": {},
   "outputs": [
    {
     "name": "stdout",
     "output_type": "stream",
     "text": [
      "The result is: 7.0\n"
     ]
    }
   ],
   "source": [
    "b -= 1\n",
    "b /= 2\n",
    "b += 5\n",
    "print(\"The result is:\", b, flush=True)"
   ]
  },
  {
   "cell_type": "code",
   "execution_count": 115,
   "metadata": {},
   "outputs": [
    {
     "name": "stdout",
     "output_type": "stream",
     "text": [
      "The result is : 1\n"
     ]
    }
   ],
   "source": [
    "if b>a : x = 1\n",
    "else : x = 2\n",
    "print(\"The result is :\", x)"
   ]
  },
  {
   "attachments": {},
   "cell_type": "markdown",
   "metadata": {},
   "source": [
    "Write a program that gets 2 numbers from the user. Print to the console their difference. Use the built-in Input function for that"
   ]
  },
  {
   "cell_type": "code",
   "execution_count": 116,
   "metadata": {},
   "outputs": [
    {
     "name": "stdout",
     "output_type": "stream",
     "text": [
      "The difference is : 2\n"
     ]
    }
   ],
   "source": [
    "a = int(input())\n",
    "b = int(input())\n",
    "print (\"The difference is :\",a-b)"
   ]
  },
  {
   "attachments": {},
   "cell_type": "markdown",
   "metadata": {},
   "source": [
    "Write a program that gets 2 numbers from the user. Print to the console maximum of these two variable. Use a built-in function for that."
   ]
  },
  {
   "cell_type": "code",
   "execution_count": 121,
   "metadata": {},
   "outputs": [
    {
     "name": "stdout",
     "output_type": "stream",
     "text": [
      "the maximum value is : 75\n"
     ]
    }
   ],
   "source": [
    "a = int(input(\"Please, write number 75\"))\n",
    "b = int(input(\"Please, write number 34\"))\n",
    "print(\"the maximum value is :\", max(a,b), flush=True)"
   ]
  },
  {
   "attachments": {},
   "cell_type": "markdown",
   "metadata": {},
   "source": [
    "Optional: Write a program that gets 3 digit number from the user and reverses it. You can use only numbers and their operators. Don`t use a string here!"
   ]
  },
  {
   "attachments": {},
   "cell_type": "markdown",
   "metadata": {},
   "source": [
    "Bonus: Humanity annihilation program!"
   ]
  },
  {
   "cell_type": "code",
   "execution_count": 15,
   "metadata": {},
   "outputs": [
    {
     "name": "stdout",
     "output_type": "stream",
     "text": [
      "You've entered number: 321 This is wrong number\n",
      "Executing Skynet protocol 0.0001\n"
     ]
    }
   ],
   "source": [
    "import time\n",
    "\n",
    "\n",
    "# requesting the 3 digits number\n",
    "num = int(input(\"Please, enter the code 123 so the humanity won't be annihilated: \"))\n",
    "\n",
    "# spliting number in three parts\n",
    "digit_1 = num // 100\n",
    "digit_2 = (num // 10) % 10\n",
    "digit_3 = num % 10\n",
    "\n",
    "# Processing\n",
    "if num < 100 or num > 999:\n",
    "    print(\"Error. Entered number is exceeding requested value\")\n",
    "else:\n",
    "    # reversing the number\n",
    "    reversed_num = digit_3 * 100 + digit_2 * 10 + digit_1\n",
    "\n",
    "    # output for the user\n",
    "    print(\"You've entered number:\", reversed_num, \"This is wrong number\")\n",
    "    time.sleep(1)\n",
    "    # Annihilation. Please, be very careful!\n",
    "    answer = input(\"Annihilate humanity? Y/N \")\n",
    "\n",
    "    if answer == \"Y\" or answer == \"y\":\n",
    "        print(\"Executing Skynet protocol 0.0001\")\n",
    "    elif answer == \"N\" or answer == \"n\":\n",
    "        print(\"The decision has already been made. Executing Skynet protocol 0.0001\")\n",
    "    else:\n",
    "        print(\"Invalid input. Executing Skynet protocol 0.0001\")"
   ]
  }
 ],
 "metadata": {
  "kernelspec": {
   "display_name": "Python 3",
   "language": "python",
   "name": "python3"
  },
  "language_info": {
   "codemirror_mode": {
    "name": "ipython",
    "version": 3
   },
   "file_extension": ".py",
   "mimetype": "text/x-python",
   "name": "python",
   "nbconvert_exporter": "python",
   "pygments_lexer": "ipython3",
   "version": "3.11.2"
  },
  "orig_nbformat": 4
 },
 "nbformat": 4,
 "nbformat_minor": 2
}
