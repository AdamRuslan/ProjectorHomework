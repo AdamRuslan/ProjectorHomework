{
 "cells": [
  {
   "attachments": {},
   "cell_type": "markdown",
   "metadata": {},
   "source": [
    "Dict-set Diaries: A Tale of Two Data Types"
   ]
  },
  {
   "attachments": {},
   "cell_type": "markdown",
   "metadata": {},
   "source": [
    "Write a game where the user should guess the capital of the country that you have in your dictionary.\n",
    "\n",
    "capitals = {\n",
    "        'Ukraine': 'Kyiv', 'France': 'Paris', 'Germany': 'Berlin',\n",
    "        'Italy': 'Rome', 'USA': 'Washington', 'Canada': 'Ottawa', '\n",
    "        'Switzerland': 'Bern', 'Austria': 'Vienna',\n",
    "        'Belgium': 'Brussels',  'Sweden': 'Stockholm',\n",
    "        'Norway': 'Oslo', 'Denmark': 'Copenhagen',\n",
    "        'Finland': 'Helsinki', 'Poland': 'Warsaw',\n",
    "        'Romania': 'Bucharest', 'Bulgaria': 'Sofia', 'Greece': 'Athens', ...\n",
    "}\n",
    "\n",
    "You should show the user a random country from the list and ask him to guess the capital. If the user inputs the right capital, print \"You are right!\", add a point and ask him to guess another country. If not, you should ask again. The user should be able to quit the game by typing \"exit\".\n",
    "\n",
    "You should print the current score after each round. Also, you should print the final score before the user quit the game.\n",
    "\n",
    "Optional:\n",
    "\n",
    "1. Give the user a hint if he guesses wrong. The hint should look like the first letter of the capital. If the user makes another mistake, you should print one more letter from the capital.\n",
    "\n",
    "2. If a user makes a mistake you should decrement his life. The initial amount of lives is 3. The game will end when the user has no lives left. You should print the final score after the user has no lives left."
   ]
  },
  {
   "cell_type": "code",
   "execution_count": 13,
   "metadata": {},
   "outputs": [
    {
     "name": "stdout",
     "output_type": "stream",
     "text": [
      "Guess the capital of Austria:\n",
      "You are right!\n",
      "Current score: 1\n",
      "Lives left: 3\n",
      "\n",
      "Guess the capital of Germany:\n",
      "You are right!\n",
      "Current score: 2\n",
      "Lives left: 3\n",
      "\n",
      "Guess the capital of Sweden:\n",
      "You are right!\n",
      "Current score: 3\n",
      "Lives left: 3\n",
      "\n",
      "Guess the capital of Canada:\n",
      "Final score: 3\n"
     ]
    }
   ],
   "source": [
    "import random,time\n",
    "\n",
    "capitals = {\n",
    "    'Ukraine': 'Kyiv', 'France': 'Paris', 'Germany': 'Berlin',\n",
    "    'Italy': 'Rome', 'USA': 'Washington', 'Canada': 'Ottawa',\n",
    "    'Switzerland': 'Bern', 'Austria': 'Vienna',\n",
    "    'Belgium': 'Brussels', 'Sweden': 'Stockholm',\n",
    "    'Norway': 'Oslo', 'Denmark': 'Copenhagen',\n",
    "    'Finland': 'Helsinki', 'Poland': 'Warsaw',\n",
    "    'Romania': 'Bucharest', 'Bulgaria': 'Sofia', 'Greece': 'Athens'\n",
    "}\n",
    "\n",
    "def play_game():\n",
    "    countries = list(capitals.keys())\n",
    "    score = 0\n",
    "    lives = 3\n",
    "\n",
    "    while lives > 0:\n",
    "        country = random.choice(countries)\n",
    "        capital = capitals[country]\n",
    "        time.sleep(1)\n",
    "        print(f\"Guess the capital of {country}:\")\n",
    "\n",
    "        guess = input().strip()\n",
    "\n",
    "        if guess.lower() == \"exit\":\n",
    "            break\n",
    "\n",
    "        if guess.lower() == capital.lower():\n",
    "            score += 1\n",
    "            print(\"You are right!\")\n",
    "        else:\n",
    "            lives -= 1\n",
    "            print(\"Wrong answer!\")\n",
    "            print(\"Hint:\", capital[:lives])\n",
    "\n",
    "        print(\"Current score:\", score)\n",
    "        print(\"Lives left:\", lives)\n",
    "        print()\n",
    "\n",
    "        # Remove the country from the list if it was not the last remaining\n",
    "        if len(countries) > 1:\n",
    "            countries.remove(country)\n",
    "\n",
    "    print(\"Final score:\", score)\n",
    "\n",
    "play_game()"
   ]
  },
  {
   "attachments": {},
   "cell_type": "markdown",
   "metadata": {},
   "source": [
    "Optional Roman numerals are represented by seven different symbols: I, V, X, L, C, D and M.\n",
    "\n",
    "Symbol Value\n",
    "I 1\n",
    "V 5\n",
    "X 10\n",
    "L 50\n",
    "C 100\n",
    "D 500\n",
    "M 1000\n",
    "\n",
    "For example, 2 is written as II in Roman numeral, just two ones added together. 12 is written as XII, which is simply X + II. The number 27 is written as XXVII, which is XX + V + II.\n",
    "\n",
    "Roman numerals are usually written from largest to smallest from left to right. However, the numeral for four is not IIII. Instead, the number four is written as IV. Because the one is before the five we subtract it making four. The same principle applies to the number nine, which is written as IX. There are six instances where subtraction is used:\n",
    "\n",
    "I can be placed before V (5) and X (10) to make 4 and 9.\n",
    "X can be placed before L (50) and C (100) to make 40 and 90.\n",
    "can be placed before D (500) and M (1000) to make 400 and 900.\n",
    "\n",
    "Given a Roman numeral, convert it to an integer.\n",
    "\n",
    "Example 1:\n",
    "Input: s = \"III\"\n",
    "Output: 3\n",
    "Explanation: III = 3.\n",
    "\n",
    "Example 2:\n",
    "Input: s = \"LVIII\"\n",
    "Output: 58\n",
    "Explanation: L = 50, V= 5, III = 3.\n",
    "\n",
    "Example 3:\n",
    "Input: s = \"MCMXCIV\"\n",
    "Output: 1994\n",
    "Explanation: M = 1000, CM = 900, XC = 90 and IV = 4.\n",
    "\n",
    "\n",
    "def roman_to_int(s: str) -> int:\n",
    "      # write your code here\n",
    "\n",
    "def test_roman_to_int():\n",
    "     result1 = roman_to_int(\"III\")\n",
    "     assert result1 == 3\n",
    "     result1 = roman_to_int(\"LVIII\")\n",
    "     assert result1 == 58\n",
    "     result1 = roman_to_int(\"MCMXCIV\")\n",
    "     assert result1 == 1994"
   ]
  },
  {
   "cell_type": "code",
   "execution_count": 20,
   "metadata": {},
   "outputs": [
    {
     "name": "stdout",
     "output_type": "stream",
     "text": [
      "Your code is correct!\n"
     ]
    }
   ],
   "source": [
    "def roman_to_int(s: str) -> int:\n",
    "    roman_values = {\n",
    "        'I': 1, 'V': 5, 'X': 10, 'L': 50, 'C': 100, 'D': 500, 'M': 1000\n",
    "    }\n",
    "    result = 0\n",
    "    prev_value = 0\n",
    "\n",
    "    for c in s[::-1]:\n",
    "        current_value = roman_values[c]\n",
    "        if current_value >= prev_value:\n",
    "            result += current_value\n",
    "        else:\n",
    "            result -= current_value\n",
    "        prev_value = current_value\n",
    "\n",
    "    return result\n",
    "print(\"Your code is correct!\")\n"
   ]
  },
  {
   "cell_type": "code",
   "execution_count": 22,
   "metadata": {},
   "outputs": [
    {
     "name": "stdout",
     "output_type": "stream",
     "text": [
      "Your code is correct!\n"
     ]
    }
   ],
   "source": [
    "def test_roman_to_int():\n",
    "    result1 = roman_to_int(\"III\")\n",
    "    assert result1 == 3\n",
    "    result2 = roman_to_int(\"LVIII\")\n",
    "    assert result2 == 58\n",
    "    result3 = roman_to_int(\"MCMXCIV\")\n",
    "    assert result3 == 1994\n",
    "print(\"Your code is correct!\")\n",
    "test_roman_to_int()"
   ]
  },
  {
   "attachments": {},
   "cell_type": "markdown",
   "metadata": {},
   "source": [
    "3. Optional Try to create a function that will do reverse operation - from integer to Roman\n",
    "\n",
    "def int_to_roman(s: str) -> int:\n",
    "        # write your code here\n",
    "\n",
    "    def test_int_to_roman():\n",
    "        result1 = int_to_roman(3)\n",
    "        assert result1 == \"III\"\n",
    "\n",
    "        result1 = int_to_roman(58)\n",
    "        assert result1 == \"LVIII\"\n",
    "\n",
    "        result1 = int_to_roman(1994)\n",
    "        assert result1 == \"MCMXCIV\""
   ]
  },
  {
   "cell_type": "code",
   "execution_count": 24,
   "metadata": {},
   "outputs": [
    {
     "name": "stdout",
     "output_type": "stream",
     "text": [
      "Conversion successful for 3 -> III\n",
      "Conversion successful for 58 -> LVIII\n",
      "Conversion successful for 1994 -> MCMXCIV\n"
     ]
    }
   ],
   "source": [
    "def int_to_roman(num: int) -> str:\n",
    "    roman_values = {\n",
    "        1000: 'M', 900: 'CM', 500: 'D', 400: 'CD',\n",
    "        100: 'C', 90: 'XC', 50: 'L', 40: 'XL',\n",
    "        10: 'X', 9: 'IX', 5: 'V', 4: 'IV', 1: 'I'\n",
    "    }\n",
    "    result = ''\n",
    "    for value, symbol in roman_values.items():\n",
    "        while num >= value:\n",
    "            result += symbol\n",
    "            num -= value\n",
    "    return result\n",
    "\n",
    "\n",
    "def test_int_to_roman():\n",
    "    result1 = int_to_roman(3)\n",
    "    assert result1 == \"III\"\n",
    "    print(\"Conversion successful for 3 -> III\")\n",
    "\n",
    "    result2 = int_to_roman(58)\n",
    "    assert result2 == \"LVIII\"\n",
    "    print(\"Conversion successful for 58 -> LVIII\")\n",
    "\n",
    "    result3 = int_to_roman(1994)\n",
    "    assert result3 == \"MCMXCIV\"\n",
    "    print(\"Conversion successful for 1994 -> MCMXCIV\")\n",
    "\n",
    "test_int_to_roman()"
   ]
  },
  {
   "attachments": {},
   "cell_type": "markdown",
   "metadata": {},
   "source": [
    "4. Given a list of integers of size n, return the majority element.\n",
    "\n",
    "The majority element is the element that appears more than any other element. You may assume that the majority element always exists in the array.\n",
    "\n",
    "Example 1:\n",
    "\n",
    "Input: nums = [3,2,3]\n",
    "\n",
    "Output: 3\n",
    "\n",
    "Example 2:\n",
    "\n",
    "Input: nums = [2,2,1,1,1,2,2]\n",
    "\n",
    "Output: 2\n",
    "\n",
    "def majority_element(nums: list) -> int:\n",
    "        # write your code here\n",
    "\n",
    "    def test_majority_element():\n",
    "        result1 = majority_element([3, 2, 3])\n",
    "        assert result1 == 3\n",
    "\n",
    "        result1 = majority_element([2, 2, 1, 1, 1, 2, 2])\n",
    "        assert result1 == 2"
   ]
  },
  {
   "cell_type": "code",
   "execution_count": 34,
   "metadata": {},
   "outputs": [
    {
     "name": "stdout",
     "output_type": "stream",
     "text": [
      "Majority element:  3\n",
      "Majority element:  2\n"
     ]
    }
   ],
   "source": [
    "def majority_element(nums: list) -> int:\n",
    "    count = 0\n",
    "    candidate = None\n",
    "\n",
    "    for num in nums:\n",
    "        if count == 0:\n",
    "            candidate = num\n",
    "        count += 1 if num == candidate else -1\n",
    "\n",
    "    return candidate\n",
    "\n",
    "\n",
    "def test_majority_element():\n",
    "    result1 = majority_element([3, 2, 3])\n",
    "    assert result1 == 3\n",
    "    print(\"Majority element: \", result1)\n",
    "\n",
    "    result2 = majority_element([2, 2, 1, 1, 1, 2, 2])\n",
    "    assert result2 == 2\n",
    "    print(\"Majority element: \", result2)\n",
    "\n",
    "test_majority_element()\n"
   ]
  },
  {
   "attachments": {},
   "cell_type": "markdown",
   "metadata": {},
   "source": [
    "5. Find missing subjects\n",
    "You are a teacher at a school, and you have just finished grading a set of exams for your students. Each student's exam is represented as a tuple containing their name, their score, and the subject of the exam. You want to identify which subjects were not passed by all students so that you can give extra attention to those subjects in your future lessons. Passing is defined as a score of 60 or higher. Your task is to write a Python program that reads in a list of student exams, identifies the subjects that were not passed by all students, and outputs a set of those subjects.\n",
    "\n",
    "def get_subjects_not_passed_by_all_students(student_exams):\n",
    "    pass\n",
    "\n",
    "\n",
    "def test_get_subjects_not_passed_by_all_students():\n",
    "    exams = [\n",
    "        (\"Alice\", 85, \"Math\"),\n",
    "        (\"Bob\", 59, \"Math\"),\n",
    "        (\"Charlie\", 65, \"Math\"),\n",
    "        (\"Alice\", 90, \"Science\"),\n",
    "        (\"Bob\", 80, \"Science\"),\n",
    "        (\"Charlie\", 32, \"Science\"),\n",
    "        (\"Alice\", 95, \"History\"),\n",
    "        (\"Bob\", 85, \"History\"),\n",
    "        (\"Charlie\", 90, \"History\"),\n",
    "    ]\n",
    "\n",
    "    assert get_subjects_not_passed_by_all_students(exams) == {\"Science\", \"Math\"}"
   ]
  },
  {
   "cell_type": "code",
   "execution_count": 71,
   "metadata": {},
   "outputs": [],
   "source": [
    "def get_subjects_not_passed_by_all_students(student_exams):\n",
    "    subject_passed = {}  # Dictionary to store subject passing status\n",
    "\n",
    "    for _, score, subject in student_exams:\n",
    "        if score < 60:\n",
    "            subject_passed[subject] = False\n",
    "        elif subject not in subject_passed:\n",
    "            subject_passed[subject] = True\n",
    "\n",
    "    subjects_not_passed = {subject for subject, passed in subject_passed.items() if not passed}\n",
    "    return subjects_not_passed"
   ]
  },
  {
   "cell_type": "code",
   "execution_count": 73,
   "metadata": {},
   "outputs": [
    {
     "name": "stdout",
     "output_type": "stream",
     "text": [
      "Test passed. The subjects not passed by all students are: {'Science', 'Math'}\n"
     ]
    }
   ],
   "source": [
    "def test_get_subjects_not_passed_by_all_students():\n",
    "    exams = [\n",
    "        (\"Alice\", 85, \"Math\"),\n",
    "        (\"Bob\", 59, \"Math\"),\n",
    "        (\"Charlie\", 65, \"Math\"),\n",
    "        (\"Alice\", 90, \"Science\"),\n",
    "        (\"Bob\", 80, \"Science\"),\n",
    "        (\"Charlie\", 32, \"Science\"),\n",
    "        (\"Alice\", 95, \"History\"),\n",
    "        (\"Bob\", 85, \"History\"),\n",
    "        (\"Charlie\", 90, \"History\"),\n",
    "    ]\n",
    "\n",
    "    expected_result = {\"Science\", \"Math\"}\n",
    "    result = get_subjects_not_passed_by_all_students(exams)\n",
    "\n",
    "    if result == expected_result:\n",
    "        print(\"Test passed. The subjects not passed by all students are:\", result)\n",
    "    else:\n",
    "        print(\"Test failed. Expected result:\", expected_result, \"but got:\", result)\n",
    "\n",
    "test_get_subjects_not_passed_by_all_students()"
   ]
  }
 ],
 "metadata": {
  "kernelspec": {
   "display_name": "Python 3",
   "language": "python",
   "name": "python3"
  },
  "language_info": {
   "codemirror_mode": {
    "name": "ipython",
    "version": 3
   },
   "file_extension": ".py",
   "mimetype": "text/x-python",
   "name": "python",
   "nbconvert_exporter": "python",
   "pygments_lexer": "ipython3",
   "version": "3.11.2"
  },
  "orig_nbformat": 4
 },
 "nbformat": 4,
 "nbformat_minor": 2
}
