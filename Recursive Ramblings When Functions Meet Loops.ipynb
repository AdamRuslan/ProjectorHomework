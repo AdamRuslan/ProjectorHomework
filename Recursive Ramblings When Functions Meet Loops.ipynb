{
 "cells": [
  {
   "attachments": {},
   "cell_type": "markdown",
   "metadata": {},
   "source": [
    "1. Write a function called `find_primes` that takes in two integers a and b and returns a list of all the prime numbers between a and b (inclusive)."
   ]
  },
  {
   "cell_type": "code",
   "execution_count": 43,
   "metadata": {},
   "outputs": [
    {
     "name": "stdout",
     "output_type": "stream",
     "text": [
      "[2, 3, 5, 7]\n"
     ]
    }
   ],
   "source": [
    "a = 1\n",
    "b = 10\n",
    "def find_primes(a, b): #create a function to find prime numbers\n",
    "    primes = [] #storing prime numbers in a list\n",
    "\n",
    "    for num in range(a, b + 1):\n",
    "        if num > 1: #prime numbers are greater than 1\n",
    "            for i in range(2, int(num ** 0.5) + 1): #check for factors\n",
    "                if num % i == 0: #if the number is divisible by any number between 2 and the square root of the number\n",
    "                    break #break the loop if the number is not prime\n",
    "            else:\n",
    "                primes.append(num) #append the number to the list if it is prime\n",
    "\n",
    "    return primes\n",
    "print(find_primes(a, b)) #print the list of prime numbers"
   ]
  },
  {
   "attachments": {},
   "cell_type": "markdown",
   "metadata": {},
   "source": [
    "2. Write a function called `unique_characters` that takes in a string s and returns a Boolean value indicating whether or not all the characters in s are unique. For example, the string \"abcdefg\" has unique characters, but the string \"abcdeff\" does not."
   ]
  },
  {
   "cell_type": "code",
   "execution_count": 53,
   "metadata": {},
   "outputs": [
    {
     "name": "stdout",
     "output_type": "stream",
     "text": [
      "False\n"
     ]
    }
   ],
   "source": [
    "s = \"abcdd\"\n",
    "\n",
    "def unique_characters (s):\n",
    "    unique = []\n",
    "    for char in s:\n",
    "        if char not in unique:\n",
    "            unique.append(char)\n",
    "        else:\n",
    "            return False\n",
    "    return True\n",
    "\n",
    "\n",
    "result = unique_characters(s)\n",
    "print(result)"
   ]
  },
  {
   "attachments": {},
   "cell_type": "markdown",
   "metadata": {},
   "source": [
    "3. Write a function that calculates [Fibonacci series](https://en.wikipedia.org/wiki/Fibonacci_sequence). The Fibonacci series is a series of numbers in which each number is the sum of the two preceding numbers. The first two numbers are 1 and 1. The third number is 1 + 1 = 2, the fourth number is 1 + 2 = 3, and so on. A number of iterations should be taken from user input.\n",
    "```python\n",
    "def fibonacci(n):\n",
    "    # your code here\n",
    "fibonacci(10)\n",
    ">>> 55\n",
    "```"
   ]
  },
  {
   "cell_type": "code",
   "execution_count": 55,
   "metadata": {},
   "outputs": [
    {
     "data": {
      "text/plain": [
       "55"
      ]
     },
     "execution_count": 55,
     "metadata": {},
     "output_type": "execute_result"
    }
   ],
   "source": [
    "def fibonacci(n):\n",
    "    if n <= 1:\n",
    "        return n\n",
    "    else:\n",
    "        return fibonacci(n-1) + fibonacci(n-2)\n",
    "    \n",
    "fibonacci(10)"
   ]
  },
  {
   "attachments": {},
   "cell_type": "markdown",
   "metadata": {},
   "source": [
    "4. Write a function that implements case swapping. It should return the same result as swapcase() method. Your function should accept one str argument and convert all lower case values to upper case and vice versa. \n",
    "\n",
    "```python\n",
    "\n",
    "def swapcase(input_string: str) -> str:\n",
    "\n",
    "    # do something\n",
    "\n",
    "print(swapcase('HelLo!')) \n",
    "\n",
    ">>> 'hELlO!\n",
    "\n",
    "```"
   ]
  },
  {
   "cell_type": "code",
   "execution_count": 73,
   "metadata": {},
   "outputs": [
    {
     "name": "stdout",
     "output_type": "stream",
     "text": [
      "hELlO!\n"
     ]
    }
   ],
   "source": [
    "def swapcase(input_string: str) -> str:\n",
    "    swapped_string = \"\"\n",
    "\n",
    "    for char in input_string:\n",
    "        if char.islower():\n",
    "            swapped_string += char.upper()\n",
    "        elif char.isupper():\n",
    "            swapped_string += char.lower()\n",
    "        else:\n",
    "            swapped_string += char\n",
    "\n",
    "    return swapped_string\n",
    "\n",
    "print(swapcase('HelLo!'))"
   ]
  },
  {
   "attachments": {},
   "cell_type": "markdown",
   "metadata": {},
   "source": [
    "5. Write a function that calculates the performance of a deposit in a bank account. The function called simple_interest takes three arguments: the initial amount, the annual interest rate (as a float), and the time in years. The function should return the final amount after the simple interest has been applied. Use a for loop to accomplish this. Round the answer to the nearest hundredth.\n",
    "\n",
    "```python\n",
    "\n",
    "def simple_interest(initial_amount, interest_rate, years):\n",
    "\n",
    "    # Your code here\n",
    "\n",
    "print(simple_interest(10000, 0.1, 10))\n",
    "\n",
    ">>> 25937.42\n",
    "\n",
    "```"
   ]
  },
  {
   "cell_type": "code",
   "execution_count": 75,
   "metadata": {},
   "outputs": [
    {
     "name": "stdout",
     "output_type": "stream",
     "text": [
      "25937.42\n"
     ]
    }
   ],
   "source": [
    "def simple_interest(initial_amount, interest_rate, years):\n",
    "    final_amount = initial_amount\n",
    "\n",
    "    for _ in range(years):\n",
    "        interest = final_amount * interest_rate\n",
    "        final_amount += interest\n",
    "\n",
    "    return round(final_amount, 2)\n",
    "\n",
    "print(simple_interest(10000, 0.1, 10))"
   ]
  },
  {
   "attachments": {},
   "cell_type": "markdown",
   "metadata": {},
   "source": [
    "6. (Optional) Write a function called password_strength that takes a string password as an argument and returns a password strength score based on the following criteria:\n",
    "    Length: +1 point for each character\n",
    "    Lowercase letters: +2 points for each unique lowercase letter\n",
    "    Uppercase letters: +3 points for each unique uppercase letter\n",
    "    Digits: +4 points for each unique digit\n",
    "    Special characters: +5 points for each unique special character\n",
    "Use for loops to accomplish this. The function should return the total score for the given password.\n",
    "```python\n",
    "def password_strength(password):\n",
    "    # Your code here\n",
    "password_strength('abc123')\n",
    ">>> 24 # 6 for each symbol + 3 * 2 for each lowercase letter + 4 * 3 for each digit"
   ]
  },
  {
   "cell_type": "code",
   "execution_count": 80,
   "metadata": {},
   "outputs": [
    {
     "name": "stdout",
     "output_type": "stream",
     "text": [
      "24\n"
     ]
    }
   ],
   "source": [
    "def password_strength(password):\n",
    "    score = 0 #calculate the score of the password\n",
    "    score += len(password) # +1 point for every character in the password\n",
    "    for char in password:\n",
    "        if char.islower(): # +2 points for every lowercase character in the password\n",
    "            score += 2\n",
    "        elif char.isupper():# +3 points for every uppercase character in the password\n",
    "            score += 3\n",
    "        elif char.isdigit():# +4 points for every digit in the password\n",
    "            score += 4\n",
    "        elif char in \"!@#$%^&*()_+\": # +5 points for every special character in the password\n",
    "            score += 5\n",
    "    return score #return the score of the password\n",
    "\n",
    "print(password_strength(\"abc123\"))"
   ]
  },
  {
   "attachments": {},
   "cell_type": "markdown",
   "metadata": {},
   "source": [
    "7. (Optional) Write two functions, encrypt and decrypt, that implement the [Caesar cypher](https://en.wikipedia.org/wiki/Caesar_cipher) technique for encrypting and decrypting messages. The encrypt function should take a message and a shift value as arguments, while the decrypt function should take an encrypted message and the same shift value as arguments. Use for loops to accomplish this.\n",
    "\n",
    "```python\n",
    "\n",
    "def encrypt(message, shift):\n",
    "\n",
    "    # Your code here\n",
    "\n",
    "def decrypt(encrypted_message, shift):\n",
    "\n",
    "    # Your code here"
   ]
  },
  {
   "cell_type": "code",
   "execution_count": 86,
   "metadata": {},
   "outputs": [
    {
     "name": "stdout",
     "output_type": "stream",
     "text": [
      "Yhqlw Ylglw Ylfwd\n",
      "Venit Vidit Victa\n"
     ]
    }
   ],
   "source": [
    "def encrypt(message, shift):\n",
    "    encrypted_message = \"\"\n",
    "\n",
    "    for char in message:\n",
    "        if char.islower():\n",
    "            base_ascii = ord('a')\n",
    "            encrypted_char = chr((ord(char) - base_ascii + shift) % 26 + base_ascii)\n",
    "        elif char.isupper():\n",
    "            base_ascii = ord('A')\n",
    "            encrypted_char = chr((ord(char) - base_ascii + shift) % 26 + base_ascii)\n",
    "        else:\n",
    "            encrypted_char = char\n",
    "\n",
    "        encrypted_message += encrypted_char\n",
    "\n",
    "    return encrypted_message\n",
    "\n",
    "encrypted_message = encrypt(\"Venit Vidit Victa\", 3)\n",
    "print(encrypted_message)\n",
    "\n",
    "def decrypt(encrypted_message, shift):\n",
    "    decrypted_message = \"\"\n",
    "\n",
    "    for char in encrypted_message:\n",
    "        if char.isalpha():\n",
    "            if char.islower():\n",
    "                base_ascii = ord('a')\n",
    "                decrypted_char = chr((ord(char) - base_ascii - shift) % 26 + base_ascii)\n",
    "            else:\n",
    "                base_ascii = ord('A')\n",
    "                decrypted_char = chr((ord(char) - base_ascii - shift) % 26 + base_ascii)\n",
    "        else:\n",
    "            decrypted_char = char\n",
    "\n",
    "        decrypted_message += decrypted_char\n",
    "\n",
    "    return decrypted_message\n",
    "\n",
    "print(decrypt(encrypted_message,3))\n"
   ]
  }
 ],
 "metadata": {
  "kernelspec": {
   "display_name": "Python 3",
   "language": "python",
   "name": "python3"
  },
  "language_info": {
   "codemirror_mode": {
    "name": "ipython",
    "version": 3
   },
   "file_extension": ".py",
   "mimetype": "text/x-python",
   "name": "python",
   "nbconvert_exporter": "python",
   "pygments_lexer": "ipython3",
   "version": "3.11.2"
  },
  "orig_nbformat": 4
 },
 "nbformat": 4,
 "nbformat_minor": 2
}
