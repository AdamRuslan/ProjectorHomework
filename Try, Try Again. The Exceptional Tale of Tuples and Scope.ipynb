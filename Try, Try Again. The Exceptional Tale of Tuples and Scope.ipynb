{
 "cells": [
  {
   "attachments": {},
   "cell_type": "markdown",
   "metadata": {},
   "source": [
    "Try, Try Again: The Exceptional Tale of Tuples and Scope\n",
    "\n",
    "\n",
    "Write a program that asks the user to enter an integer and convert it to an int. The program should have 2 functions. The first function should ask the user to input information and return inputted value. The second function receives the inputted value and converts it to int. If the user enters something that is not an integer, this function should catch an error and ask the user to enter an integer again. if the user inputs an integer, the program should print this number and quit w/o any error."
   ]
  },
  {
   "cell_type": "code",
   "execution_count": 12,
   "metadata": {},
   "outputs": [
    {
     "name": "stdout",
     "output_type": "stream",
     "text": [
      "Invalid input. Please enter an integer.\n",
      "The entered integer is: 123\n"
     ]
    }
   ],
   "source": [
    "def get_input():\n",
    "    value = input(\"Enter an integer: \")\n",
    "    return value\n",
    "\n",
    "\n",
    "def convert_to_int(value):\n",
    "    if value.isdigit():\n",
    "        return int(value)\n",
    "    else:\n",
    "        print(\"Invalid input. Please enter an integer.\")\n",
    "        value = get_input()\n",
    "        return convert_to_int(value)\n",
    "\n",
    "\n",
    "user_input = get_input()\n",
    "integer_value = convert_to_int(user_input)\n",
    "print(\"The entered integer is:\", integer_value)"
   ]
  },
  {
   "attachments": {},
   "cell_type": "markdown",
   "metadata": {},
   "source": [
    "Write a program that asks the user to input a string and an integer n. The Program should have 2 functions. The first function should ask the user to enter a string and an integer. The second function should receive the inputted value and print the character at the index n. If the user enters the wrong value, this function should catch an error and provide a proper error message with an explanation. After the error is handled, the program should ask the user to enter a string and an integer again. If the user inputs a string and an integer, the program should print the character at the index n and quit w/o any error."
   ]
  },
  {
   "cell_type": "code",
   "execution_count": 24,
   "metadata": {},
   "outputs": [
    {
     "name": "stdout",
     "output_type": "stream",
     "text": [
      "Character at index 4 is: o\n"
     ]
    }
   ],
   "source": [
    "def get_input():\n",
    "    string_input = input(\"Enter a string: \")\n",
    "    integer_input = input(\"Enter an integer: \")\n",
    "    return string_input, integer_input\n",
    "\n",
    "\n",
    "def print_character_at_index(string, integer):\n",
    "    if not integer.isdigit():\n",
    "        print(\"Invalid input. Please enter a valid integer.\")\n",
    "        return get_input() \n",
    "\n",
    "    integer = int(integer)\n",
    "    if integer < 0 or integer >= len(string):\n",
    "        print(\"Index\", integer, \"is out of range for the given string:\", string)\n",
    "    else:\n",
    "        character = string[integer]\n",
    "        print(\"Character at index\", integer, \"is:\", character)\n",
    "\n",
    "\n",
    "string, integer = get_input()\n",
    "print_character_at_index(string,integer)"
   ]
  },
  {
   "attachments": {},
   "cell_type": "markdown",
   "metadata": {},
   "source": [
    "Transaction\n",
    " a) Define a global variable called balance and set it to 1000. Write a function called transaction that takes an argument amount and argument _type that can be either deposit or withdrawal.              \n",
    "b) Inside the function create two inner functions called deposit and withdrawal that take an argument amount.              \n",
    "c) Inside the deposit function, add the amount to the balance variable and print the new balance.              \n",
    "d) Inside the withdrawal function, subtract the amount from the balance variable and print the new balance.              \n",
    "e) Inside the transaction function, check if the _type argument is deposit or withdrawal and call the appropriate function."
   ]
  },
  {
   "cell_type": "code",
   "execution_count": 26,
   "metadata": {},
   "outputs": [
    {
     "name": "stdout",
     "output_type": "stream",
     "text": [
      "Deposit of 500 successful.\n",
      "New balance: 1500\n",
      "Withdrawal of 200 successful.\n",
      "New balance: 1300\n",
      "Withdrawal of 1000 successful.\n",
      "New balance: 300\n"
     ]
    }
   ],
   "source": [
    "balance = 1000\n",
    "\n",
    "\n",
    "def transaction(amount, _type):\n",
    "\n",
    "    def deposit(amount):\n",
    "        global balance\n",
    "        balance += amount\n",
    "        print(\"Deposit of\", amount, \"successful.\")\n",
    "        print(\"New balance:\", balance)\n",
    "\n",
    "    def withdrawal(amount):\n",
    "        global balance\n",
    "        if amount > balance:\n",
    "            print(\"Insufficient balance. Withdrawal not possible.\")\n",
    "        else:\n",
    "            balance -= amount\n",
    "            print(\"Withdrawal of\", amount, \"successful.\")\n",
    "            print(\"New balance:\", balance)\n",
    "\n",
    "    if _type == \"deposit\":\n",
    "        deposit(amount)\n",
    "    elif _type == \"withdrawal\":\n",
    "        withdrawal(amount)\n",
    "    else:\n",
    "        print(\"Invalid transaction type. Please enter 'deposit' or 'withdrawal'.\")\n",
    "\n",
    "\n",
    "transaction(500, \"deposit\")\n",
    "transaction(200, \"withdrawal\")\n",
    "transaction(1000, \"withdrawal\")"
   ]
  },
  {
   "attachments": {},
   "cell_type": "markdown",
   "metadata": {},
   "source": [
    "Write a function that simulates a dice roll and returns the result from 1 to 6. Use random module"
   ]
  },
  {
   "cell_type": "code",
   "execution_count": 31,
   "metadata": {},
   "outputs": [
    {
     "name": "stdout",
     "output_type": "stream",
     "text": [
      "Dice roll result: 3\n"
     ]
    }
   ],
   "source": [
    "import random\n",
    "\n",
    "def roll_dice():\n",
    "    return random.randint(1, 6)\n",
    "\n",
    "# Example usage\n",
    "result = roll_dice()\n",
    "print(\"Dice roll result:\", result)"
   ]
  },
  {
   "cell_type": "code",
   "execution_count": 38,
   "metadata": {},
   "outputs": [
    {
     "name": "stdout",
     "output_type": "stream",
     "text": [
      "Number 4 was rolled 156 times.\n",
      "Number 2 was rolled 165 times.\n",
      "Number 5 was rolled 159 times.\n",
      "Number 1 was rolled 181 times.\n",
      "Number 6 was rolled 167 times.\n",
      "Number 3 was rolled 172 times.\n"
     ]
    }
   ],
   "source": [
    "import random\n",
    "\n",
    "def roll_dice():\n",
    "    return random.randint(1, 6)\n",
    "\n",
    "# Simulate 1000 dice rolls\n",
    "rolls = []\n",
    "for _ in range(1000):\n",
    "    result = roll_dice()\n",
    "    rolls.append(result)\n",
    "\n",
    "# Calculate the frequency of each number rolled\n",
    "frequency = {}\n",
    "for roll in rolls:\n",
    "    if roll in frequency:\n",
    "        frequency[roll] += 1\n",
    "    else:\n",
    "        frequency[roll] = 1\n",
    "\n",
    "# Print the results\n",
    "for number, count in frequency.items():\n",
    "    print(\"Number\", number, \"was rolled\", count, \"times.\")"
   ]
  },
  {
   "attachments": {},
   "cell_type": "markdown",
   "metadata": {},
   "source": [
    "Simulate an election for two candidates. The program should take the number of regions and the rating for 1st candidate in each region (in percentage). The program should run elections in every region. In every region, the program should ask 10 000 voters. Use the random module to simulate a voice from a person. The candidate counts as a winner if he gains more than 50% of all votes. The program should print the result of the election for each region and the winner\n",
    "\n",
    "Example:\n",
    "\n",
    "Enter the number of regions: 2\n",
    "\n",
    "Enter a rating for 1st candidate in 1 region: 34\n",
    "\n",
    "Enter a rating for 1st candidate in 2nd region: 56\n",
    "\n",
    "Region 1: 3456 votes for 1st candidate, 6544 votes for 2nd candidate\n",
    "\n",
    "Region 2: 5623 votes for 1st candidate, 4356 votes for 2nd candidate\n",
    "\n",
    "Result: 2nd candidate won with 10900 votes and 54.5% of all votes\n",
    "\n",
    "In your solution, you should use the input function to get the value from the user. After that, use a random function to generate votes for your candidate. After that calculate these votes and print the result. In your solution, you should implement these functions:\n",
    "\n",
    "Example:\n",
    "\n",
    "Enter the number of regions: 2\n",
    "\n",
    "Enter a rating for 1st candidate in 1 region: 34\n",
    "\n",
    "Enter a rating for 1st candidate in 2nd region: 56\n",
    "\n",
    "Region 1: 3456 votes for 1st candidate, 6544 votes for 2nd candidate"
   ]
  },
  {
   "cell_type": "code",
   "execution_count": 7,
   "metadata": {},
   "outputs": [
    {
     "name": "stdout",
     "output_type": "stream",
     "text": [
      "Region 1: 3432 votes for 1st candidate, 6568 votes for 2nd candidate\n",
      "\n",
      "Region 2: 4585 votes for 1st candidate, 5415 votes for 2nd candidate\n",
      "\n",
      "Result: 1st candidate won with 4585 votes and 57.2% of all votes\n"
     ]
    }
   ],
   "source": [
    "import random\n",
    "\n",
    "def simulate_election(num_regions):\n",
    "    candidate_votes = []\n",
    "    total_votes = 0\n",
    "\n",
    "    for i in range(num_regions):\n",
    "        region_rating = float(input(f\"Enter a rating for 1st candidate in region {i+1}: \"))\n",
    "        region_votes = simulate_region(region_rating)\n",
    "        candidate_votes.append(region_votes)\n",
    "        total_votes += region_votes\n",
    "\n",
    "        print(f\"Region {i+1}: {region_votes} votes for 1st candidate, {10000 - region_votes} votes for 2nd candidate\\n\")\n",
    "\n",
    "    winner_index = candidate_votes.index(max(candidate_votes))\n",
    "    winner_votes = candidate_votes[winner_index]\n",
    "    winner_percentage = (winner_votes / total_votes) * 100\n",
    "\n",
    "    print(f\"Result: 1st candidate won with {winner_votes} votes and {winner_percentage:.1f}% of all votes\")\n",
    "\n",
    "\n",
    "def simulate_region(candidate_rating):\n",
    "    candidate_votes = 0\n",
    "    for _ in range(10000):\n",
    "        if random.random() < candidate_rating / 100:\n",
    "            candidate_votes += 1\n",
    "\n",
    "    return candidate_votes\n",
    "\n",
    "\n",
    "num_regions = int(input(\"Enter the number of regions: \"))\n",
    "simulate_election(num_regions)"
   ]
  }
 ],
 "metadata": {
  "kernelspec": {
   "display_name": "Python 3",
   "language": "python",
   "name": "python3"
  },
  "language_info": {
   "codemirror_mode": {
    "name": "ipython",
    "version": 3
   },
   "file_extension": ".py",
   "mimetype": "text/x-python",
   "name": "python",
   "nbconvert_exporter": "python",
   "pygments_lexer": "ipython3",
   "version": "3.11.2"
  },
  "orig_nbformat": 4
 },
 "nbformat": 4,
 "nbformat_minor": 2
}
