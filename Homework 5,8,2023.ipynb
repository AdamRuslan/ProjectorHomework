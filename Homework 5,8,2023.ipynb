{
 "cells": [
  {
   "cell_type": "code",
   "execution_count": 79,
   "metadata": {},
   "outputs": [
    {
     "name": "stdout",
     "output_type": "stream",
     "text": [
      "True\n",
      "False\n",
      "True\n",
      "True\n",
      "True\n"
     ]
    }
   ],
   "source": [
    "print(not False == True)\n",
    "print(3 != 3.0)\n",
    "print(3 == 3.0)\n",
    "print(not False == True)\n",
    "print(False != True)"
   ]
  },
  {
   "attachments": {},
   "cell_type": "markdown",
   "metadata": {},
   "source": [
    "1. Make all these expressions True by adding parentheses:     \n",
    "a) False == not True     \n",
    "b) True and False == True and False     \n",
    "c) not True and \"A\" == \"B\""
   ]
  },
  {
   "cell_type": "code",
   "execution_count": 25,
   "metadata": {},
   "outputs": [
    {
     "name": "stdout",
     "output_type": "stream",
     "text": [
      "True\n",
      "True\n",
      "False\n"
     ]
    }
   ],
   "source": [
    "print(False == (not True))   \n",
    "print((True and False) == (True and False))     \n",
    "print((not True) and (\"A\" == \"B\"))\n",
    "#Для того, щоб вивело True, потрібно щоб хоча б один з операндів був True. \n",
    "#Тут обидва False, тому виводить False.\n",
    "#Але, якщо замінити \"not True\" на \"not False\", то виведе True, бо тоді один з операндів буде True."
   ]
  },
  {
   "attachments": {},
   "cell_type": "markdown",
   "metadata": {},
   "source": [
    "2. Make a solution for Wheat and chessboard problem. Represent a solution in tons. Assume that one grain of wheat weights 0.065 gram"
   ]
  },
  {
   "cell_type": "code",
   "execution_count": 68,
   "metadata": {},
   "outputs": [
    {
     "name": "stdout",
     "output_type": "stream",
     "text": [
      "Вихідна кількість зерен: 18446744073709551616 \n",
      "Їх загальна вага: 1199038364791 тон\n",
      "Для того, щоб перевезти це зерно, потрібно 54501743854 вантажівок(22 тони) або 386786569 кораблів(3100 тон)\n"
     ]
    }
   ],
   "source": [
    "data = 1  # Initial value for data\n",
    "count = 64  # Number of times to double\n",
    "\n",
    "while count > 0:\n",
    "    count -= 1\n",
    "    data += data\n",
    "grain_weight = (((data/1000) * 0.065)/1000)\n",
    "output_string = f\"Вихідна кількість зерен: {data} \\nЇх загальна вага: {grain_weight:.0f} тон\"\n",
    "print(output_string)\n",
    "truck_capacity = 22\n",
    "truck_count = grain_weight/truck_capacity\n",
    "ship_bulk = 3100\n",
    "ship_count = grain_weight/ship_bulk\n",
    "print(f\"Для того, щоб перевезти це зерно, потрібно {truck_count:.0f} вантажівок(22 тони) або {ship_count:.0f} кораблів(3100 тон)\")"
   ]
  },
  {
   "attachments": {},
   "cell_type": "markdown",
   "metadata": {},
   "source": [
    "3. Get a positive number from user input. Find all factors of this number.\n",
    "\n",
    "    Example:\n",
    "\n",
    "    - If the number is 6, the factors are: 1, 2, 3, 6\n",
    "\n",
    "    - If the number is 10, the factors are: 1, 2, 5, 10"
   ]
  },
  {
   "cell_type": "code",
   "execution_count": 67,
   "metadata": {},
   "outputs": [
    {
     "name": "stdout",
     "output_type": "stream",
     "text": [
      "The factors of 200 are: [1, 2, 4, 5, 8, 10, 20, 25, 40, 50, 100, 200]\n"
     ]
    }
   ],
   "source": [
    "number = int(input(\"Enter a positive number: \"))\n",
    "factors = []\n",
    "\n",
    "# Iterate from 1 to the number (inclusive)\n",
    "for i in range(1, number + 1):\n",
    "    if number % i == 0:\n",
    "        factors.append(i)\n",
    "\n",
    "print(\"The factors of\", number, \"are:\", factors)"
   ]
  },
  {
   "attachments": {},
   "cell_type": "markdown",
   "metadata": {},
   "source": [
    "4. Write a Python program to check whether a triangle is equilateral, isosceles or scalene. Get all three sides from user input.\n",
    "\n",
    "    Note :\n",
    "\n",
    "    1. An equilateral triangle is a triangle in which all three sides are equal.\n",
    "\n",
    "    2. A scalene triangle is a triangle that has three unequal sides.\n",
    "\n",
    "    3. An isosceles triangle is a triangle with (at least) two equal sides."
   ]
  },
  {
   "cell_type": "code",
   "execution_count": null,
   "metadata": {},
   "outputs": [],
   "source": [
    "side1 = float(input(\"Enter the length of side 1: \"))\n",
    "side2 = float(input(\"Enter the length of side 2: \"))\n",
    "side3 = float(input(\"Enter the length of side 3: \"))\n",
    "\n",
    "if side1 == side2 == side3:\n",
    "    print(\"The triangle is equilateral.\")\n",
    "elif side1 != side2 and side2 != side3 and side1 != side3:\n",
    "    print(\"The triangle is scalene.\")\n",
    "else:\n",
    "    print(\"The triangle is isosceles.\")\n"
   ]
  },
  {
   "attachments": {},
   "cell_type": "markdown",
   "metadata": {},
   "source": [
    "5. (Optional): Write a Python program to get the next day of a given date. Get the day, month and year from the user input. Don`t use datetime module for that\n",
    "\n",
    "Expected Output:\n",
    "\n",
    "    **Input a year:** 2022                                                     \n",
    "\n",
    "    **Input a month [1-12]:** 8                                               \n",
    "\n",
    "    **Input a day [1-31]:** 23                                           \n",
    "\n",
    "    The next date is [yyyy-mm-dd] 2022-8-24"
   ]
  },
  {
   "cell_type": "code",
   "execution_count": 1,
   "metadata": {},
   "outputs": [
    {
     "name": "stdout",
     "output_type": "stream",
     "text": [
      "The next date is [yyyy-mm-dd]: 2022 - 8 - 24\n"
     ]
    }
   ],
   "source": [
    "year = int(input(\"Input a year: \"))\n",
    "month = int(input(\"Input a month [1-12]: \"))\n",
    "day = int(input(\"Input a day [1-31]: \"))\n",
    "\n",
    "is_leap_year = year % 4 == 0 and (year % 100 != 0 or year % 400 == 0)\n",
    "is_short_month = month in [4, 6, 9, 11]\n",
    "\n",
    "if day == 31 or (day == 30 and is_short_month) or (day == 28 and month == 2 and not is_leap_year):\n",
    "    if month == 12:\n",
    "        year += 1\n",
    "        month = 1\n",
    "    else:\n",
    "        month += 1\n",
    "    day = 1\n",
    "else:\n",
    "    day += 1\n",
    "\n",
    "print(\"The next date is [yyyy-mm-dd]:\", year, \"-\", month, \"-\", day)"
   ]
  },
  {
   "attachments": {},
   "cell_type": "markdown",
   "metadata": {},
   "source": [
    "Bonus###"
   ]
  },
  {
   "cell_type": "code",
   "execution_count": 6,
   "metadata": {},
   "outputs": [
    {
     "name": "stdout",
     "output_type": "stream",
     "text": [
      "Добре, я зупиняюсь\n"
     ]
    }
   ],
   "source": [
    "import time\n",
    "\n",
    "while True:\n",
    "    data = input(\"Введіть дані. P.S. Якщо хочете зупинитись, введіть 'досить' \")\n",
    "    if data == \"досить\":\n",
    "        print(\"Добре, я зупиняюсь\")\n",
    "        break\n",
    "    else:\n",
    "        if data.isdigit():\n",
    "            number = int(data)\n",
    "            if number >= 21:\n",
    "                print(\"Дозволено споживання алкоголю\")\n",
    "            else:\n",
    "                print(\"Ви занадто молоді для алкоголю\")\n",
    "            break\n",
    "        else:\n",
    "            print(\"Неправильний тип даних. Спробуйте знову.\")\n",
    "            time.sleep(3)\n",
    "            continue"
   ]
  }
 ],
 "metadata": {
  "kernelspec": {
   "display_name": "Python 3",
   "language": "python",
   "name": "python3"
  },
  "language_info": {
   "codemirror_mode": {
    "name": "ipython",
    "version": 3
   },
   "file_extension": ".py",
   "mimetype": "text/x-python",
   "name": "python",
   "nbconvert_exporter": "python",
   "pygments_lexer": "ipython3",
   "version": "3.11.2"
  },
  "orig_nbformat": 4
 },
 "nbformat": 4,
 "nbformat_minor": 2
}
