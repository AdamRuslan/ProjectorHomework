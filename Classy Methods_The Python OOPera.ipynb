{
 "cells": [
  {
   "attachments": {},
   "cell_type": "markdown",
   "metadata": {},
   "source": [
    "Classy Methods: The Python OOPera\n",
    "1. Create add method to add two countries together. This method should create another country object with the name of the two countries combined and the population of the two countries added together.\n",
    "```\n",
    "bosnia = Country('Bosnia', 10_000_000)\n",
    "herzegovina = Country('Herzegovina', 5_000_000)\n",
    "bosnia_herzegovina = bosnia.add(herzegovina)\n",
    "bosnia_herzegovina.population -> 15_000_000\n",
    "bosnia_herzegovina.name -> 'Bosnia Herzegovina'\n",
    "```"
   ]
  },
  {
   "cell_type": "code",
   "execution_count": 1,
   "metadata": {},
   "outputs": [],
   "source": [
    "class Country:\n",
    "    def __init__(self, name, population):\n",
    "        self.name = name\n",
    "        self.population = population\n",
    "    \n",
    "    def add(self, other_country):\n",
    "        combined_name = self.name + ' ' + other_country.name\n",
    "        combined_population = self.population + other_country.population\n",
    "        new_country = Country(combined_name, combined_population)\n",
    "        return new_country\n"
   ]
  },
  {
   "cell_type": "code",
   "execution_count": 2,
   "metadata": {},
   "outputs": [
    {
     "name": "stdout",
     "output_type": "stream",
     "text": [
      "15000000\n",
      "Bosnia Herzegovina\n"
     ]
    }
   ],
   "source": [
    "bosnia = Country('Bosnia', 10_000_000)\n",
    "herzegovina = Country('Herzegovina', 5_000_000)\n",
    "\n",
    "bosnia_herzegovina = bosnia.add(herzegovina)\n",
    "\n",
    "print(bosnia_herzegovina.population)  # Output: 15,000,000\n",
    "print(bosnia_herzegovina.name)  # Output: 'Bosnia Herzegovina'\n"
   ]
  },
  {
   "attachments": {},
   "cell_type": "markdown",
   "metadata": {},
   "source": [
    "2. Implement the previous method with a magic method\n",
    "```\n",
    "bosnia = Country('Bosnia', 10_000_000)\n",
    "herzegovina = Country('Herzegovina', 5_000_000)\n",
    "bosnia_herzegovina = bosnia + herzegovina\n",
    "bosnia_herzegovina.population -> 15_000_000\n",
    "bosnia_herzegovina.name -> 'Bosnia Herzegovina'\n",
    "```"
   ]
  },
  {
   "cell_type": "code",
   "execution_count": 3,
   "metadata": {},
   "outputs": [],
   "source": [
    "class Country:\n",
    "    def __init__(self, name, population):\n",
    "        self.name = name\n",
    "        self.population = population\n",
    "    \n",
    "    def __add__(self, other_country):\n",
    "        combined_name = self.name + ' ' + other_country.name\n",
    "        combined_population = self.population + other_country.population\n",
    "        new_country = Country(combined_name, combined_population)\n",
    "        return new_country\n"
   ]
  },
  {
   "cell_type": "code",
   "execution_count": 4,
   "metadata": {},
   "outputs": [
    {
     "name": "stdout",
     "output_type": "stream",
     "text": [
      "15000000\n",
      "Bosnia Herzegovina\n"
     ]
    }
   ],
   "source": [
    "bosnia = Country('Bosnia', 10_000_000)\n",
    "herzegovina = Country('Herzegovina', 5_000_000)\n",
    "\n",
    "bosnia_herzegovina = bosnia + herzegovina\n",
    "\n",
    "print(bosnia_herzegovina.population)  # Output: 15,000,000\n",
    "print(bosnia_herzegovina.name)  # Output: 'Bosnia Herzegovina'\n"
   ]
  },
  {
   "attachments": {},
   "cell_type": "markdown",
   "metadata": {},
   "source": [
    "3. Create a Car class with the following attributes: brand, model, year, and speed. The Car class should have the following methods: accelerate, brake and display_speed. The accelerate method should increase the speed by 5, and the brake method should decrease the speed by 5. Remember that the speed cannot be negative."
   ]
  },
  {
   "cell_type": "code",
   "execution_count": 5,
   "metadata": {},
   "outputs": [],
   "source": [
    "class Car:\n",
    "    def __init__(self, brand, model, year, speed=0):\n",
    "        self.brand = brand\n",
    "        self.model = model\n",
    "        self.year = year\n",
    "        self.speed = speed\n",
    "    \n",
    "    def accelerate(self):\n",
    "        self.speed += 5\n",
    "    \n",
    "    def brake(self):\n",
    "        if self.speed >= 5:\n",
    "            self.speed -= 5\n",
    "        else:\n",
    "            self.speed = 0\n",
    "    \n",
    "    def display_speed(self):\n",
    "        print(f\"The car's speed is {self.speed} km/h.\")\n"
   ]
  },
  {
   "cell_type": "code",
   "execution_count": 6,
   "metadata": {},
   "outputs": [
    {
     "name": "stdout",
     "output_type": "stream",
     "text": [
      "The car's speed is 0 km/h.\n",
      "The car's speed is 5 km/h.\n",
      "The car's speed is 0 km/h.\n"
     ]
    }
   ],
   "source": [
    "my_car = Car(\"Toyota\", \"Camry\", 2021)\n",
    "my_car.display_speed()  # Output: The car's speed is 0 km/h\n",
    "\n",
    "my_car.accelerate()\n",
    "my_car.display_speed()  # Output: The car's speed is 5 km/h\n",
    "\n",
    "my_car.brake()\n",
    "my_car.display_speed()  # Output: The car's speed is 0 km/h\n"
   ]
  },
  {
   "attachments": {},
   "cell_type": "markdown",
   "metadata": {},
   "source": [
    "4. (Optional) Create a Robot class with the following attributes: orientation, position_x, position_y. The Robot class should have the following methods: move, turn, and display_position. The move method should take a number of steps and move the robot in the direction it is currently facing. The turn method should take a direction (left or right) and turn the robot in that direction. The display_position method should print the current position of the robot."
   ]
  },
  {
   "cell_type": "code",
   "execution_count": 8,
   "metadata": {},
   "outputs": [],
   "source": [
    "class Robot:\n",
    "    def __init__(self, orientation, position_x=0, position_y=0):\n",
    "        self.orientation = orientation\n",
    "        self.position_x = position_x\n",
    "        self.position_y = position_y\n",
    "    \n",
    "    def move(self, steps):\n",
    "        if self.orientation == 'up':\n",
    "            self.position_y += steps\n",
    "        elif self.orientation == 'down':\n",
    "            self.position_y -= steps\n",
    "        elif self.orientation == 'left':\n",
    "            self.position_x -= steps\n",
    "        elif self.orientation == 'right':\n",
    "            self.position_x += steps\n",
    "    \n",
    "    def turn(self, direction):\n",
    "        if direction == 'left':\n",
    "            orientations = ['up', 'left', 'down', 'right']\n",
    "            current_index = orientations.index(self.orientation)\n",
    "            self.orientation = orientations[(current_index - 1) % 4]\n",
    "        elif direction == 'right':\n",
    "            orientations = ['up', 'right', 'down', 'left']\n",
    "            current_index = orientations.index(self.orientation)\n",
    "            self.orientation = orientations[(current_index + 1) % 4]\n",
    "    \n",
    "    def display_position(self):\n",
    "        print(f\"The robot's current position is ({self.position_x}, {self.position_y}).\")\n"
   ]
  },
  {
   "cell_type": "code",
   "execution_count": 10,
   "metadata": {},
   "outputs": [
    {
     "name": "stdout",
     "output_type": "stream",
     "text": [
      "The robot's current position is (0, 0).\n",
      "The robot's current position is (0, 3).\n",
      "The robot's current position is (2, 3).\n",
      "The robot's current position is (2, 2).\n"
     ]
    }
   ],
   "source": [
    "my_robot = Robot('up')\n",
    "my_robot.display_position()  # Output: The robot's current position is (0, 0)\n",
    "\n",
    "my_robot.move(3)\n",
    "my_robot.display_position()  # Output: The robot's current position is (0, 3)\n",
    "\n",
    "my_robot.turn('right')\n",
    "my_robot.move(2)\n",
    "my_robot.display_position()  # Output: The robot's current position is (2, 3)\n",
    "\n",
    "my_robot.turn('left')\n",
    "my_robot.move(1)\n",
    "my_robot.display_position()  # Output: The robot's current position is (2, 2)\n"
   ]
  }
 ],
 "metadata": {
  "kernelspec": {
   "display_name": "Python 3",
   "language": "python",
   "name": "python3"
  },
  "language_info": {
   "codemirror_mode": {
    "name": "ipython",
    "version": 3
   },
   "file_extension": ".py",
   "mimetype": "text/x-python",
   "name": "python",
   "nbconvert_exporter": "python",
   "pygments_lexer": "ipython3",
   "version": "3.11.2"
  },
  "orig_nbformat": 4
 },
 "nbformat": 4,
 "nbformat_minor": 2
}
