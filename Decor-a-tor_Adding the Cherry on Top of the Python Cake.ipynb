{
 "cells": [
  {
   "attachments": {},
   "cell_type": "markdown",
   "metadata": {},
   "source": [
    "1. Write a decorator that ensures a function is only called by users with a\n",
    " specific role. Each function should have an user_type with a string \n",
    "type in kwargs. Example:\n",
    "\n",
    "@is_admin\n",
    "def show_customer_receipt(user_type: str):\n",
    "    # Some very dangerous operation\n",
    "\n",
    "show_customer_receipt(user_type='user')\n",
    "> ValueError: Permission denied\n",
    "\n",
    "show_customer_receipt(user_type='admin')\n",
    "> function pass as it should be"
   ]
  },
  {
   "cell_type": "code",
   "execution_count": 3,
   "metadata": {},
   "outputs": [
    {
     "ename": "ValueError",
     "evalue": "Permission denied",
     "output_type": "error",
     "traceback": [
      "\u001b[1;31m---------------------------------------------------------------------------\u001b[0m",
      "\u001b[1;31mValueError\u001b[0m                                Traceback (most recent call last)",
      "Cell \u001b[1;32mIn[3], line 17\u001b[0m\n\u001b[0;32m     12\u001b[0m \u001b[39m@is_admin\u001b[39m\n\u001b[0;32m     13\u001b[0m \u001b[39mdef\u001b[39;00m \u001b[39mshow_customer_receipt\u001b[39m(user_type: \u001b[39mstr\u001b[39m):\n\u001b[0;32m     14\u001b[0m     \u001b[39m# Some very dangerous operation\u001b[39;00m\n\u001b[0;32m     15\u001b[0m     \u001b[39mprint\u001b[39m(\u001b[39m\"\u001b[39m\u001b[39mCustomer receipt shown successfully\u001b[39m\u001b[39m\"\u001b[39m)\n\u001b[1;32m---> 17\u001b[0m show_customer_receipt(user_type\u001b[39m=\u001b[39;49m\u001b[39m'\u001b[39;49m\u001b[39muser\u001b[39;49m\u001b[39m'\u001b[39;49m)  \u001b[39m# Raises ValueError: Permission denied\u001b[39;00m\n\u001b[0;32m     19\u001b[0m show_customer_receipt(user_type\u001b[39m=\u001b[39m\u001b[39m'\u001b[39m\u001b[39madmin\u001b[39m\u001b[39m'\u001b[39m)  \u001b[39m# Prints \"Customer receipt shown successfully\"\u001b[39;00m\n",
      "Cell \u001b[1;32mIn[3], line 8\u001b[0m, in \u001b[0;36mis_admin.<locals>.wrapper\u001b[1;34m(*args, **kwargs)\u001b[0m\n\u001b[0;32m      6\u001b[0m user_type \u001b[39m=\u001b[39m kwargs\u001b[39m.\u001b[39mget(\u001b[39m'\u001b[39m\u001b[39muser_type\u001b[39m\u001b[39m'\u001b[39m)\n\u001b[0;32m      7\u001b[0m \u001b[39mif\u001b[39;00m user_type \u001b[39m!=\u001b[39m \u001b[39m'\u001b[39m\u001b[39madmin\u001b[39m\u001b[39m'\u001b[39m:\n\u001b[1;32m----> 8\u001b[0m     \u001b[39mraise\u001b[39;00m \u001b[39mValueError\u001b[39;00m(\u001b[39m'\u001b[39m\u001b[39mPermission denied\u001b[39m\u001b[39m'\u001b[39m)\n\u001b[0;32m      9\u001b[0m \u001b[39mreturn\u001b[39;00m func(\u001b[39m*\u001b[39margs, \u001b[39m*\u001b[39m\u001b[39m*\u001b[39mkwargs)\n",
      "\u001b[1;31mValueError\u001b[0m: Permission denied"
     ]
    }
   ],
   "source": [
    "from functools import wraps\n",
    "\n",
    "def is_admin(func):\n",
    "    @wraps(func)\n",
    "    def wrapper(*args, **kwargs):\n",
    "        user_type = kwargs.get('user_type')\n",
    "        if user_type != 'admin':\n",
    "            raise ValueError('Permission denied')\n",
    "        return func(*args, **kwargs)\n",
    "    return wrapper\n",
    "\n",
    "@is_admin\n",
    "def show_customer_receipt(user_type: str):\n",
    "    # Some very dangerous operation\n",
    "    print(\"Customer receipt shown successfully\")\n",
    "\n",
    "show_customer_receipt(user_type='user')  # Raises ValueError: Permission denied\n",
    "\n",
    "show_customer_receipt(user_type='admin')  # Prints \"Customer receipt shown successfully\"\n"
   ]
  },
  {
   "attachments": {},
   "cell_type": "markdown",
   "metadata": {},
   "source": [
    "2. Write a decorator that wraps a function in a try-except block and prints an error if an error has happened. Example:\n",
    "\n",
    "@catch_errors\n",
    "def some_function_with_risky_operation(data):\n",
    "    print(data['key'])\n",
    "\n",
    "\n",
    "some_function_with_risky_operation({'foo': 'bar'})\n",
    "> Found 1 error during execution of your function: KeyError no such key as foo\n",
    "\n",
    "some_function_with_risky_operation({'key': 'bar'})\n",
    "> bar\n",
    "\n"
   ]
  },
  {
   "cell_type": "code",
   "execution_count": 4,
   "metadata": {},
   "outputs": [
    {
     "name": "stdout",
     "output_type": "stream",
     "text": [
      "Found 1 error during execution of your function: KeyError 'key'\n",
      "bar\n"
     ]
    }
   ],
   "source": [
    "def catch_errors(func):\n",
    "    def wrapper(*args, **kwargs):\n",
    "        try:\n",
    "            return func(*args, **kwargs)\n",
    "        except Exception as e:\n",
    "            print(f\"Found 1 error during execution of your function: {type(e).__name__} {str(e)}\")\n",
    "    return wrapper\n",
    "\n",
    "@catch_errors\n",
    "def some_function_with_risky_operation(data):\n",
    "    print(data['key'])\n",
    "\n",
    "some_function_with_risky_operation({'foo': 'bar'})  # Prints \"Found 1 error during execution of your function: KeyError 'key'\"\n",
    "some_function_with_risky_operation({'key': 'bar'})  # Prints \"bar\""
   ]
  },
  {
   "attachments": {},
   "cell_type": "markdown",
   "metadata": {},
   "source": [
    "3. Optional: Create a decorator that will check types. It should take a function with arguments and validate inputs with annotations. It should work for all possible functions. Don`t forget to check the return type as well\n",
    "Example:\n",
    "@check_types\n",
    "def add(a: int, b: int) -> int:\n",
    "    return a + b\n",
    "\n",
    "add(1, 2)\n",
    "> 3\n",
    "\n",
    "add(\"1\", \"2\")\n",
    "> TypeError: Argument a must be int, not str\n"
   ]
  },
  {
   "cell_type": "code",
   "execution_count": 5,
   "metadata": {},
   "outputs": [],
   "source": [
    "import inspect\n",
    "\n",
    "def check_types(func):\n",
    "    sig = inspect.signature(func)\n",
    "    \n",
    "    def check_arguments(*args, **kwargs):\n",
    "        bound_args = sig.bind(*args, **kwargs)\n",
    "        for name, value in bound_args.arguments.items():\n",
    "            param = sig.parameters[name]\n",
    "            expected_type = param.annotation\n",
    "            if expected_type != inspect.Parameter.empty and not isinstance(value, expected_type):\n",
    "                raise TypeError(f\"Argument {name} must be {expected_type.__name__}, not {type(value).__name__}\")\n",
    "        return func(*args, **kwargs)\n",
    "    \n",
    "    def check_return(*args, **kwargs):\n",
    "        result = check_arguments(*args, **kwargs)\n",
    "        expected_return_type = sig.return_annotation\n",
    "        if expected_return_type != inspect.Parameter.empty and not isinstance(result, expected_return_type):\n",
    "            raise TypeError(f\"Return value must be {expected_return_type.__name__}, not {type(result).__name__}\")\n",
    "        return result\n",
    "    \n",
    "    return check_return\n"
   ]
  },
  {
   "cell_type": "code",
   "execution_count": 6,
   "metadata": {},
   "outputs": [
    {
     "ename": "TypeError",
     "evalue": "Argument a must be int, not str",
     "output_type": "error",
     "traceback": [
      "\u001b[1;31m---------------------------------------------------------------------------\u001b[0m",
      "\u001b[1;31mTypeError\u001b[0m                                 Traceback (most recent call last)",
      "Cell \u001b[1;32mIn[6], line 7\u001b[0m\n\u001b[0;32m      3\u001b[0m     \u001b[39mreturn\u001b[39;00m a \u001b[39m+\u001b[39m b\n\u001b[0;32m      5\u001b[0m add(\u001b[39m1\u001b[39m, \u001b[39m2\u001b[39m)  \u001b[39m# Returns 3\u001b[39;00m\n\u001b[1;32m----> 7\u001b[0m add(\u001b[39m\"\u001b[39;49m\u001b[39m1\u001b[39;49m\u001b[39m\"\u001b[39;49m, \u001b[39m\"\u001b[39;49m\u001b[39m2\u001b[39;49m\u001b[39m\"\u001b[39;49m)  \u001b[39m# Raises TypeError: Argument a must be int, not str\u001b[39;00m\n",
      "Cell \u001b[1;32mIn[5], line 16\u001b[0m, in \u001b[0;36mcheck_types.<locals>.check_return\u001b[1;34m(*args, **kwargs)\u001b[0m\n\u001b[0;32m     15\u001b[0m \u001b[39mdef\u001b[39;00m \u001b[39mcheck_return\u001b[39m(\u001b[39m*\u001b[39margs, \u001b[39m*\u001b[39m\u001b[39m*\u001b[39mkwargs):\n\u001b[1;32m---> 16\u001b[0m     result \u001b[39m=\u001b[39m check_arguments(\u001b[39m*\u001b[39;49margs, \u001b[39m*\u001b[39;49m\u001b[39m*\u001b[39;49mkwargs)\n\u001b[0;32m     17\u001b[0m     expected_return_type \u001b[39m=\u001b[39m sig\u001b[39m.\u001b[39mreturn_annotation\n\u001b[0;32m     18\u001b[0m     \u001b[39mif\u001b[39;00m expected_return_type \u001b[39m!=\u001b[39m inspect\u001b[39m.\u001b[39mParameter\u001b[39m.\u001b[39mempty \u001b[39mand\u001b[39;00m \u001b[39mnot\u001b[39;00m \u001b[39misinstance\u001b[39m(result, expected_return_type):\n",
      "Cell \u001b[1;32mIn[5], line 12\u001b[0m, in \u001b[0;36mcheck_types.<locals>.check_arguments\u001b[1;34m(*args, **kwargs)\u001b[0m\n\u001b[0;32m     10\u001b[0m     expected_type \u001b[39m=\u001b[39m param\u001b[39m.\u001b[39mannotation\n\u001b[0;32m     11\u001b[0m     \u001b[39mif\u001b[39;00m expected_type \u001b[39m!=\u001b[39m inspect\u001b[39m.\u001b[39mParameter\u001b[39m.\u001b[39mempty \u001b[39mand\u001b[39;00m \u001b[39mnot\u001b[39;00m \u001b[39misinstance\u001b[39m(value, expected_type):\n\u001b[1;32m---> 12\u001b[0m         \u001b[39mraise\u001b[39;00m \u001b[39mTypeError\u001b[39;00m(\u001b[39mf\u001b[39m\u001b[39m\"\u001b[39m\u001b[39mArgument \u001b[39m\u001b[39m{\u001b[39;00mname\u001b[39m}\u001b[39;00m\u001b[39m must be \u001b[39m\u001b[39m{\u001b[39;00mexpected_type\u001b[39m.\u001b[39m\u001b[39m__name__\u001b[39m\u001b[39m}\u001b[39;00m\u001b[39m, not \u001b[39m\u001b[39m{\u001b[39;00m\u001b[39mtype\u001b[39m(value)\u001b[39m.\u001b[39m\u001b[39m__name__\u001b[39m\u001b[39m}\u001b[39;00m\u001b[39m\"\u001b[39m)\n\u001b[0;32m     13\u001b[0m \u001b[39mreturn\u001b[39;00m func(\u001b[39m*\u001b[39margs, \u001b[39m*\u001b[39m\u001b[39m*\u001b[39mkwargs)\n",
      "\u001b[1;31mTypeError\u001b[0m: Argument a must be int, not str"
     ]
    }
   ],
   "source": [
    "@check_types\n",
    "def add(a: int, b: int) -> int:\n",
    "    return a + b\n",
    "\n",
    "add(1, 2)  # Returns 3\n",
    "\n",
    "add(\"1\", \"2\")  # Raises TypeError: Argument a must be int, not str"
   ]
  },
  {
   "attachments": {},
   "cell_type": "markdown",
   "metadata": {},
   "source": [
    "4. Optional: Create a function that caches the result of a function, so that if it is called with the same argument multiple times, it returns the cached result first instead of re-executing the function."
   ]
  },
  {
   "cell_type": "code",
   "execution_count": 7,
   "metadata": {},
   "outputs": [],
   "source": [
    "from functools import wraps\n",
    "\n",
    "def memoize(func):\n",
    "    cache = {}\n",
    "    \n",
    "    @wraps(func)\n",
    "    def wrapper(*args, **kwargs):\n",
    "        key = (args, tuple(kwargs.items()))\n",
    "        if key in cache:\n",
    "            return cache[key]\n",
    "        result = func(*args, **kwargs)\n",
    "        cache[key] = result\n",
    "        return result\n",
    "    \n",
    "    return wrapper"
   ]
  },
  {
   "cell_type": "code",
   "execution_count": 8,
   "metadata": {},
   "outputs": [
    {
     "name": "stdout",
     "output_type": "stream",
     "text": [
      "Calculating result for 5...\n",
      "10\n",
      "10\n",
      "Calculating result for 10...\n",
      "20\n",
      "20\n"
     ]
    }
   ],
   "source": [
    "@memoize\n",
    "def expensive_function(n):\n",
    "    print(f\"Calculating result for {n}...\")\n",
    "    return n * 2\n",
    "\n",
    "print(expensive_function(5))  # Calculates the result and returns 10\n",
    "print(expensive_function(5))  # Returns the cached result of 10\n",
    "print(expensive_function(10))  # Calculates the result and returns 20\n",
    "print(expensive_function(10))  # Returns the cached result of 20\n"
   ]
  },
  {
   "attachments": {},
   "cell_type": "markdown",
   "metadata": {},
   "source": [
    "5. Optional: Write a decorator that adds a rate-limiter to a function, so that it can only be called a certain amount of times per minute"
   ]
  },
  {
   "cell_type": "code",
   "execution_count": 9,
   "metadata": {},
   "outputs": [],
   "source": [
    "import time\n",
    "from functools import wraps\n",
    "\n",
    "def rate_limiter(limit, per_seconds):\n",
    "    interval = 1 / per_seconds\n",
    "    call_times = []\n",
    "\n",
    "    def decorator(func):\n",
    "        @wraps(func)\n",
    "        def wrapper(*args, **kwargs):\n",
    "            now = time.time()\n",
    "\n",
    "            # Remove old timestamps that are outside the time frame\n",
    "            call_times[:] = [t for t in call_times if now - t <= limit]\n",
    "\n",
    "            if len(call_times) >= limit:\n",
    "                # Rate limit exceeded\n",
    "                raise ValueError(f\"Rate limit exceeded. Only {limit} calls allowed per {limit * interval} seconds.\")\n",
    "\n",
    "            call_times.append(now)\n",
    "            return func(*args, **kwargs)\n",
    "\n",
    "        return wrapper\n",
    "\n",
    "    return decorator\n"
   ]
  },
  {
   "cell_type": "code",
   "execution_count": 10,
   "metadata": {},
   "outputs": [
    {
     "name": "stdout",
     "output_type": "stream",
     "text": [
      "Function called\n",
      "Function called\n",
      "Function called\n"
     ]
    },
    {
     "ename": "ValueError",
     "evalue": "Rate limit exceeded. Only 3 calls allowed per 0.05 seconds.",
     "output_type": "error",
     "traceback": [
      "\u001b[1;31m---------------------------------------------------------------------------\u001b[0m",
      "\u001b[1;31mValueError\u001b[0m                                Traceback (most recent call last)",
      "Cell \u001b[1;32mIn[10], line 8\u001b[0m\n\u001b[0;32m      6\u001b[0m my_function()  \u001b[39m# Prints \"Function called\"\u001b[39;00m\n\u001b[0;32m      7\u001b[0m my_function()  \u001b[39m# Prints \"Function called\"\u001b[39;00m\n\u001b[1;32m----> 8\u001b[0m my_function()  \u001b[39m# Raises ValueError: Rate limit exceeded. Only 3 calls allowed per 60.0 seconds.\u001b[39;00m\n",
      "Cell \u001b[1;32mIn[9], line 18\u001b[0m, in \u001b[0;36mrate_limiter.<locals>.decorator.<locals>.wrapper\u001b[1;34m(*args, **kwargs)\u001b[0m\n\u001b[0;32m     14\u001b[0m call_times[:] \u001b[39m=\u001b[39m [t \u001b[39mfor\u001b[39;00m t \u001b[39min\u001b[39;00m call_times \u001b[39mif\u001b[39;00m now \u001b[39m-\u001b[39m t \u001b[39m<\u001b[39m\u001b[39m=\u001b[39m limit]\n\u001b[0;32m     16\u001b[0m \u001b[39mif\u001b[39;00m \u001b[39mlen\u001b[39m(call_times) \u001b[39m>\u001b[39m\u001b[39m=\u001b[39m limit:\n\u001b[0;32m     17\u001b[0m     \u001b[39m# Rate limit exceeded\u001b[39;00m\n\u001b[1;32m---> 18\u001b[0m     \u001b[39mraise\u001b[39;00m \u001b[39mValueError\u001b[39;00m(\u001b[39mf\u001b[39m\u001b[39m\"\u001b[39m\u001b[39mRate limit exceeded. Only \u001b[39m\u001b[39m{\u001b[39;00mlimit\u001b[39m}\u001b[39;00m\u001b[39m calls allowed per \u001b[39m\u001b[39m{\u001b[39;00mlimit\u001b[39m \u001b[39m\u001b[39m*\u001b[39m\u001b[39m \u001b[39minterval\u001b[39m}\u001b[39;00m\u001b[39m seconds.\u001b[39m\u001b[39m\"\u001b[39m)\n\u001b[0;32m     20\u001b[0m call_times\u001b[39m.\u001b[39mappend(now)\n\u001b[0;32m     21\u001b[0m \u001b[39mreturn\u001b[39;00m func(\u001b[39m*\u001b[39margs, \u001b[39m*\u001b[39m\u001b[39m*\u001b[39mkwargs)\n",
      "\u001b[1;31mValueError\u001b[0m: Rate limit exceeded. Only 3 calls allowed per 0.05 seconds."
     ]
    }
   ],
   "source": [
    "@rate_limiter(limit=3, per_seconds=60)\n",
    "def my_function():\n",
    "    print(\"Function called\")\n",
    "\n",
    "my_function()  # Prints \"Function called\"\n",
    "my_function()  # Prints \"Function called\"\n",
    "my_function()  # Prints \"Function called\"\n",
    "my_function()  # Raises ValueError: Rate limit exceeded. Only 3 calls allowed per 60.0 seconds.\n"
   ]
  }
 ],
 "metadata": {
  "kernelspec": {
   "display_name": "Python 3",
   "language": "python",
   "name": "python3"
  },
  "language_info": {
   "codemirror_mode": {
    "name": "ipython",
    "version": 3
   },
   "file_extension": ".py",
   "mimetype": "text/x-python",
   "name": "python",
   "nbconvert_exporter": "python",
   "pygments_lexer": "ipython3",
   "version": "3.11.2"
  },
  "orig_nbformat": 4
 },
 "nbformat": 4,
 "nbformat_minor": 2
}
