{
 "cells": [
  {
   "attachments": {},
   "cell_type": "markdown",
   "metadata": {},
   "source": [
    "Find the user with the most reservations:"
   ]
  },
  {
   "cell_type": "code",
   "execution_count": 2,
   "metadata": {},
   "outputs": [
    {
     "ename": "SyntaxError",
     "evalue": "invalid syntax (2483701090.py, line 3)",
     "output_type": "error",
     "traceback": [
      "\u001b[1;36m  Cell \u001b[1;32mIn[2], line 3\u001b[1;36m\u001b[0m\n\u001b[1;33m    from Data base alg.md import User, Reservation, engine\u001b[0m\n\u001b[1;37m              ^\u001b[0m\n\u001b[1;31mSyntaxError\u001b[0m\u001b[1;31m:\u001b[0m invalid syntax\n"
     ]
    }
   ],
   "source": [
    "import sqlite3\n",
    "from sqlalchemy import func\n",
    "from sqlalchemy.orm import sessionmaker\n",
    "from models import User, Reservation, engine\n",
    "\n",
    "Session = sessionmaker(bind=engine)\n",
    "session = Session()\n",
    "\n",
    "user_with_most_reservations = session.query(User).join(Reservation).group_by(User.id).order_by(func.count(Reservation.id).desc()).first()\n",
    "\n",
    "print(user_with_most_reservations.username)\n"
   ]
  },
  {
   "attachments": {},
   "cell_type": "markdown",
   "metadata": {},
   "source": [
    "Find the host who earned the most money for the last month:"
   ]
  },
  {
   "cell_type": "code",
   "execution_count": null,
   "metadata": {},
   "outputs": [],
   "source": [
    "from datetime import datetime, timedelta\n",
    "from sqlalchemy import func\n",
    "from sqlalchemy.orm import sessionmaker\n",
    "from models import User, Host, Room, Reservation, Payment, engine\n",
    "\n",
    "Session = sessionmaker(bind=engine)\n",
    "session = Session()\n",
    "\n",
    "last_month = datetime.now() - timedelta(days=30)\n",
    "last_month_start = datetime(last_month.year, last_month.month, 1)\n",
    "\n",
    "host_with_most_earnings = session.query(User).join(Host).join(Room).join(Reservation).join(Payment).filter(Payment.payment_date >= last_month_start).group_by(User.id).order_by(func.sum(Payment.amount).desc()).first()\n",
    "\n",
    "print(host_with_most_earnings.username)\n",
    "\n"
   ]
  },
  {
   "attachments": {},
   "cell_type": "markdown",
   "metadata": {},
   "source": [
    "Find the host with the best average rating:"
   ]
  },
  {
   "cell_type": "code",
   "execution_count": null,
   "metadata": {},
   "outputs": [],
   "source": [
    "from sqlalchemy import func\n",
    "from sqlalchemy.orm import sessionmaker\n",
    "from models import User, Host, Review, engine\n",
    "\n",
    "Session = sessionmaker(bind=engine)\n",
    "session = Session()\n",
    "\n",
    "host_with_best_rating = session.query(User).join(Host).join(Review).group_by(User.id).order_by(func.avg(Review.rating).desc()).first()\n",
    "\n",
    "print(host_with_best_rating.username)\n"
   ]
  }
 ],
 "metadata": {
  "kernelspec": {
   "display_name": "Python 3",
   "language": "python",
   "name": "python3"
  },
  "language_info": {
   "codemirror_mode": {
    "name": "ipython",
    "version": 3
   },
   "file_extension": ".py",
   "mimetype": "text/x-python",
   "name": "python",
   "nbconvert_exporter": "python",
   "pygments_lexer": "ipython3",
   "version": "3.11.2"
  },
  "orig_nbformat": 4
 },
 "nbformat": 4,
 "nbformat_minor": 2
}
