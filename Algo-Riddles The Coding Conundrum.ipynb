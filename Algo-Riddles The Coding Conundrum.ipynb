{
 "cells": [
  {
   "attachments": {},
   "cell_type": "markdown",
   "metadata": {},
   "source": [
    "Algo-Riddles: The Coding Conundrum\n",
    "\n",
    "You have 100 cats.\n",
    "\n",
    "One day you decide to arrange all your cats in a giant circle. Initially, none of your cats have any hats on. You walk around the circle 100 times, always starting at the same spot, with the first cat (cat # 1). Every time you stop at a cat, you either put a hat on it if it doesn’t have one on, or you take its hat off if it has one on.\n",
    "\n",
    "In The first round, you stop at every cat, placing a hat on each one.\n",
    "In The second round, you only stop at every second cat (#2, #4, #6, #8, etc.).\n",
    "In The third round, you only stop at every third cat(#3, #6, #9, #12, etc.).\n",
    "You continue this process until you’ve made 100 rounds around the cats (e.g., you only visit the 100th cat).\n",
    "\n",
    "\n",
    "Write a program that simply outputs which cats have hats at the end.\n",
    "\n",
    "Optional: Make a function that can calculate hats with any amount of rounds and cats.\n",
    "\n",
    "Here you should write an algorithm, and after that, try to make pseudo code. Only after that start to work. The code is simple here, but you might struggle with the algorithm. Therefore don`t try to write a code from the first attempt. Don't forget to calculate the complexity of your algorithm."
   ]
  },
  {
   "cell_type": "code",
   "execution_count": 3,
   "metadata": {},
   "outputs": [
    {
     "name": "stdout",
     "output_type": "stream",
     "text": [
      "Cat # 1 has a hat.\n",
      "Cat # 4 has a hat.\n",
      "Cat # 9 has a hat.\n",
      "Cat # 16 has a hat.\n",
      "Cat # 25 has a hat.\n",
      "Cat # 36 has a hat.\n",
      "Cat # 49 has a hat.\n",
      "Cat # 64 has a hat.\n",
      "Cat # 81 has a hat.\n",
      "Cat # 100 has a hat.\n"
     ]
    }
   ],
   "source": [
    "def arrange_cats(num_cats):\n",
    "    cats = [False] * num_cats  # Initialize all cats without hats\n",
    "    \n",
    "    for i in range(1, num_cats + 1):\n",
    "        for j in range(i, num_cats + 1, i):\n",
    "            cats[j - 1] = not cats[j - 1]  # Toggle the hat status\n",
    "            \n",
    "    # Print the cats with hats\n",
    "    for i, has_hat in enumerate(cats):\n",
    "        if has_hat:\n",
    "            print(\"Cat #\", i + 1, \"has a hat.\")\n",
    "\n",
    "# Example usage: arranging 100 cats\n",
    "arrange_cats(100)"
   ]
  },
  {
   "cell_type": "code",
   "execution_count": 6,
   "metadata": {},
   "outputs": [
    {
     "name": "stdout",
     "output_type": "stream",
     "text": [
      "Cats with hats: [1, 4, 9, 16, 25, 36, 49, 64, 81, 100]\n",
      "Number of cats with hats: 10\n"
     ]
    }
   ],
   "source": [
    "def calculate_hats(num_rounds, num_cats):\n",
    "    cats = [False] * num_cats  # Initialize all cats without hats\n",
    "    \n",
    "    for round in range(1, num_rounds + 1):\n",
    "        for cat in range(round, num_cats + 1, round):\n",
    "            cats[cat - 1] = not cats[cat - 1]  # Toggle the hat status\n",
    "            \n",
    "    # Collect cats with hats\n",
    "    cats_with_hats = []\n",
    "    for i, has_hat in enumerate(cats):\n",
    "        if has_hat:\n",
    "            cats_with_hats.append(i + 1)\n",
    "    \n",
    "    return cats_with_hats\n",
    "\n",
    "# Example usage: calculating hats with 100 rounds and 100 cats\n",
    "cats_with_hats = calculate_hats(100, 100)\n",
    "print(\"Cats with hats:\", cats_with_hats)\n",
    "print(\"Number of cats with hats:\", len(cats_with_hats))"
   ]
  }
 ],
 "metadata": {
  "kernelspec": {
   "display_name": "Python 3",
   "language": "python",
   "name": "python3"
  },
  "language_info": {
   "codemirror_mode": {
    "name": "ipython",
    "version": 3
   },
   "file_extension": ".py",
   "mimetype": "text/x-python",
   "name": "python",
   "nbconvert_exporter": "python",
   "pygments_lexer": "ipython3",
   "version": "3.11.2"
  },
  "orig_nbformat": 4
 },
 "nbformat": 4,
 "nbformat_minor": 2
}
